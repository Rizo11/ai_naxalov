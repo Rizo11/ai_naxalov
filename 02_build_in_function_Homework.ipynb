{
  "nbformat": 4,
  "nbformat_minor": 0,
  "metadata": {
    "colab": {
      "provenance": [],
      "include_colab_link": true
    },
    "kernelspec": {
      "name": "python3",
      "display_name": "Python 3"
    },
    "language_info": {
      "name": "python"
    }
  },
  "cells": [
    {
      "cell_type": "markdown",
      "metadata": {
        "id": "view-in-github",
        "colab_type": "text"
      },
      "source": [
        "<a href=\"https://colab.research.google.com/github/Rizo11/ai_naxalov/blob/main/02_build_in_function_Homework.ipynb\" target=\"_parent\"><img src=\"https://colab.research.google.com/assets/colab-badge.svg\" alt=\"Open In Colab\"/></a>"
      ]
    },
    {
      "cell_type": "code",
      "source": [
        "!pip install git+https://github.com/testCodeacademyuz/build_in_function_colab_test.git"
      ],
      "metadata": {
        "colab": {
          "base_uri": "https://localhost:8080/"
        },
        "id": "_avYYvFN3-fy",
        "outputId": "373b54e8-eb8b-4aa4-9419-fd983d26742e"
      },
      "execution_count": null,
      "outputs": [
        {
          "output_type": "stream",
          "name": "stdout",
          "text": [
            "Looking in indexes: https://pypi.org/simple, https://us-python.pkg.dev/colab-wheels/public/simple/\n",
            "Collecting git+https://github.com/testCodeacademyuz/build_in_function_colab_test.git\n",
            "  Cloning https://github.com/testCodeacademyuz/build_in_function_colab_test.git to /tmp/pip-req-build-v3699phu\n",
            "  Running command git clone --filter=blob:none --quiet https://github.com/testCodeacademyuz/build_in_function_colab_test.git /tmp/pip-req-build-v3699phu\n",
            "  Resolved https://github.com/testCodeacademyuz/build_in_function_colab_test.git to commit ad34143bdbacea6dd5d1dcaacb684bc4cfc15260\n",
            "  Preparing metadata (setup.py) ... \u001b[?25l\u001b[?25hdone\n",
            "Requirement already satisfied: requests in /usr/local/lib/python3.10/dist-packages (from build-in-function==0.1.0) (2.27.1)\n",
            "Requirement already satisfied: urllib3<1.27,>=1.21.1 in /usr/local/lib/python3.10/dist-packages (from requests->build-in-function==0.1.0) (1.26.15)\n",
            "Requirement already satisfied: certifi>=2017.4.17 in /usr/local/lib/python3.10/dist-packages (from requests->build-in-function==0.1.0) (2022.12.7)\n",
            "Requirement already satisfied: charset-normalizer~=2.0.0 in /usr/local/lib/python3.10/dist-packages (from requests->build-in-function==0.1.0) (2.0.12)\n",
            "Requirement already satisfied: idna<4,>=2.5 in /usr/local/lib/python3.10/dist-packages (from requests->build-in-function==0.1.0) (3.4)\n",
            "Building wheels for collected packages: build-in-function\n",
            "  Building wheel for build-in-function (setup.py) ... \u001b[?25l\u001b[?25hdone\n",
            "  Created wheel for build-in-function: filename=build_in_function-0.1.0-py3-none-any.whl size=2889 sha256=b5904a9ed90a41e5d4c2e498a5c4c16ea81b6213845b4abba510b0085c7d5f62\n",
            "  Stored in directory: /tmp/pip-ephem-wheel-cache-gnq28zez/wheels/d9/93/40/c5ff8e9db4fba785477fd87496f29b58e5c84d1350eb0899e1\n",
            "Successfully built build-in-function\n",
            "Installing collected packages: build-in-function\n",
            "Successfully installed build-in-function-0.1.0\n"
          ]
        }
      ]
    },
    {
      "cell_type": "code",
      "source": [
        "from build_in_function.test import *"
      ],
      "metadata": {
        "id": "ikdrPaSy4EY_"
      },
      "execution_count": null,
      "outputs": []
    },
    {
      "cell_type": "code",
      "source": [
        "# enter your telegram username\n",
        "telegram_username = "
      ],
      "metadata": {
        "id": "vNIYO8Dn4QXz"
      },
      "execution_count": null,
      "outputs": []
    },
    {
      "cell_type": "markdown",
      "source": [
        "# Build in Function\n",
        "\n",
        "## build_func01\n",
        "\n",
        "A integer type variable 'number' is given. Return the absolute value of a \"number\". \n",
        "```\n",
        "Input:number.\n",
        "Output: answer.\n",
        "```\n",
        "\n",
        "|   **Input**   |   **Output**    |\n",
        "|---------------|-----------------|\n",
        "|-8             |8                |"
      ],
      "metadata": {
        "id": "QxsRDVKDhvC0"
      }
    },
    {
      "cell_type": "code",
      "execution_count": null,
      "metadata": {
        "id": "wFh6eAJUhZPG"
      },
      "outputs": [],
      "source": [
        "def main1(number):\n",
        "    \"\"\"\n",
        "    Return the absolute value of a \"number\".\n",
        "    \"\"\""
      ]
    },
    {
      "cell_type": "code",
      "source": [
        "q1.check(main1, telegram_username)"
      ],
      "metadata": {
        "id": "zGtUWlDHuOG9"
      },
      "execution_count": null,
      "outputs": []
    },
    {
      "cell_type": "markdown",
      "source": [
        "# build_func02\n",
        "\n",
        "Return the value of expression:  <img src=\"https://latex.codecogs.com/gif.latex?\\3(\\frac{7}{5}-\\frac{9}{4})\">.\n",
        "\n",
        "```\n",
        "Input:expression.\n",
        "Output: answer.\n",
        "```\n",
        "\n",
        "|   **Input**   |   **Output**    |\n",
        "|---------------|-----------------|\n",
        "|               |-2.55            |"
      ],
      "metadata": {
        "id": "vwtitvAhmdFF"
      }
    },
    {
      "cell_type": "code",
      "source": [
        "def main2():\n",
        "    \"\"\"Return the value of the expression.\n",
        "\n",
        "    Args:\n",
        "        None\n",
        "        \n",
        "    Returns:\n",
        "        float: the value of the expression\n",
        "    \"\"\""
      ],
      "metadata": {
        "id": "aCHkSY_MiAH4"
      },
      "execution_count": null,
      "outputs": []
    },
    {
      "cell_type": "code",
      "source": [
        "q2.check(main2, telegram_username)"
      ],
      "metadata": {
        "id": "-j0QdFrPuUCv"
      },
      "execution_count": null,
      "outputs": []
    },
    {
      "cell_type": "markdown",
      "source": [
        "# build_func03\n",
        "\n",
        "A integer type variable 'n' is given. Return the value of the expression:  <img src=\"https://latex.codecogs.com/gif.latex?\\3(n+1)^{2}\">.\\\n",
        "Use the `pow()` function\n",
        "```\n",
        "Input:n\n",
        "Output: answer\n",
        "```\n",
        "|   **Input**   |   **Output**    |\n",
        "|---------------|-----------------|\n",
        "|3.5           |60.75            |"
      ],
      "metadata": {
        "id": "97Jm9DR3nf5U"
      }
    },
    {
      "cell_type": "code",
      "source": [
        "def main3(n):\n",
        "    \"\"\"A integer type variable 'n' is given. Return the value of the expression .\n",
        "    \n",
        "\n",
        "    Args:\n",
        "        n (float): float\n",
        "\n",
        "    Returns:\n",
        "        float: the value of the expression\n",
        "    \"\"\""
      ],
      "metadata": {
        "id": "Zw2q6_GSn63K"
      },
      "execution_count": null,
      "outputs": []
    },
    {
      "cell_type": "code",
      "source": [
        "q3.check(main3, telegram_username)"
      ],
      "metadata": {
        "id": "v18ddkkcuaXB"
      },
      "execution_count": null,
      "outputs": []
    },
    {
      "cell_type": "markdown",
      "source": [
        "# build_func04\n",
        "\n",
        "A integer type variable 'n' is given. Return the value of the expression: <img src=\"https://latex.codecogs.com/gif.latex?\\(\\frac{2+n}{3})^{2}\">.\\\n",
        "Use the `pow()` function.\n",
        "```\n",
        "Input:n\n",
        "Output: answer\n",
        "```\n",
        "|   **Input**   |   **Output**    |\n",
        "|---------------|-----------------|\n",
        "|4              |4.0              |\n"
      ],
      "metadata": {
        "id": "KUX9JSO0oja8"
      }
    },
    {
      "cell_type": "code",
      "source": [
        "def main4(n):\n",
        "    \"\"\"A integer type variable 'n' is given. Return the value of the expression.\n",
        "     \n",
        "\n",
        "    Args:\n",
        "        n (int): integer\n",
        "        \n",
        "    Returns:\n",
        "        float: the value of the expression\n",
        "    \"\"\""
      ],
      "metadata": {
        "id": "19fNPa6vouYU"
      },
      "execution_count": null,
      "outputs": []
    },
    {
      "cell_type": "code",
      "source": [
        "q4.check(main4, telegram_username)"
      ],
      "metadata": {
        "id": "NLajg8xvo7cH"
      },
      "execution_count": null,
      "outputs": []
    },
    {
      "cell_type": "markdown",
      "source": [
        "# build_func05\n",
        "\n",
        "Integer type variables 'n' and 'x' are given. Return the value of the expression: <img src=\"https://latex.codecogs.com/gif.latex?\\(x^{n}+n^{x})\">.\\\n",
        "Use the `pow()` function\n",
        "```\n",
        "Input:n, x\n",
        "Output: answer.\n",
        "```\n",
        "|   **Input: n**   |  **Input: x**   |   **Output**    |\n",
        "|---------------|------------|-----------------|\n",
        "|3             |6            |945              |"
      ],
      "metadata": {
        "id": "CbK_4F9Ko8xF"
      }
    },
    {
      "cell_type": "code",
      "source": [
        "def main5(n, x):\n",
        "    \"\"\"Integer type variables 'n' and 'x' are given. Return the value of the expression.\n",
        "    \n",
        "    Args:\n",
        "        n (int): integer\n",
        "        x (int): integer\n",
        "        \n",
        "    Returns:\n",
        "        int: the value of the expression\n",
        "    \"\"\""
      ],
      "metadata": {
        "id": "H3tY2NbNqVLE"
      },
      "execution_count": null,
      "outputs": []
    },
    {
      "cell_type": "code",
      "source": [
        "q5.check(main5, telegram_username)"
      ],
      "metadata": {
        "id": "FNkXpiysusbe"
      },
      "execution_count": null,
      "outputs": []
    },
    {
      "cell_type": "markdown",
      "source": [
        "# build_func06\n",
        "\n",
        "Float type variables 'a' is given. Round the result to 2 decimal places\\\n",
        "Use the `round()` function\n",
        "\n",
        "Input:a.\\\n",
        "Output: answer.\n",
        "\n",
        "|   **Input**   |   **Output**    |\n",
        "|---------------|-----------------|\n",
        "|3.456          |3.46             |\n",
        "|7.5            |7.5             |"
      ],
      "metadata": {
        "id": "RhZzmPmLqdv3"
      }
    },
    {
      "cell_type": "code",
      "source": [
        "def main6(a):\n",
        "    \"\"\"Float type variable 'a' is given. Round the result to 2 decimal places.\n",
        "    \n",
        "\n",
        "    Args:\n",
        "        a (float): integer\n",
        "        \n",
        "    Returns:\n",
        "        float: The result to 2 decimal places\n",
        "    \"\"\""
      ],
      "metadata": {
        "id": "pDd2jm5Iqp3n"
      },
      "execution_count": null,
      "outputs": []
    },
    {
      "cell_type": "code",
      "source": [
        "q6.check(main6, telegram_username)"
      ],
      "metadata": {
        "id": "5DT5ubrtu1dy"
      },
      "execution_count": null,
      "outputs": []
    },
    {
      "cell_type": "markdown",
      "source": [
        "# build_func07\n",
        "\n",
        "Integer type variables 'x' and 'y' are given. Return the value of the expression: <img src=\"https://latex.codecogs.com/gif.latex?\\(x^{2}+6x^{3}+3xy)\">.\\\n",
        "Use the `pow()` function\n",
        "```\n",
        "Input:x, y.\n",
        "Output: answer.\n",
        "\n",
        "```\n",
        "|   **Input: x**   |  **Inpu: y**   |   **Output**    |\n",
        "|---------------|-----------|-----------------|\n",
        "|5            |2            |805              |"
      ],
      "metadata": {
        "id": "zvUW7OQPrfNv"
      }
    },
    {
      "cell_type": "code",
      "source": [
        "def main7(x, y):\n",
        "    \"\"\"Integer type variables 'x' and 'y' are given. Return the value of the expression.\n",
        "    \n",
        "\n",
        "    Args:\n",
        "        x (int): integer\n",
        "        y (int): integer\n",
        "        \n",
        "    Returns:\n",
        "        int: the value of the expression\n",
        "    \"\"\""
      ],
      "metadata": {
        "id": "oFYlfE0brW0R"
      },
      "execution_count": null,
      "outputs": []
    },
    {
      "cell_type": "code",
      "source": [
        "main7(5, 9)"
      ],
      "metadata": {
        "colab": {
          "base_uri": "https://localhost:8080/"
        },
        "id": "UhoqIEKLPgJd",
        "outputId": "d8b5bfa8-e18b-44b1-ae3c-0feadffe836b"
      },
      "execution_count": null,
      "outputs": [
        {
          "output_type": "execute_result",
          "data": {
            "text/plain": [
              "910"
            ]
          },
          "metadata": {},
          "execution_count": 9
        }
      ]
    },
    {
      "cell_type": "code",
      "source": [
        "q7.check(main7, telegram_username)"
      ],
      "metadata": {
        "id": "L7YPJv9wvDZ8"
      },
      "execution_count": null,
      "outputs": []
    },
    {
      "cell_type": "markdown",
      "source": [
        "# build_func08\n",
        "\n",
        "Integer type variables 'x' and 'y' are given. Return the value of the expression: <img src=\"https://latex.codecogs.com/gif.latex?\\5x^{2}y^{3}+xy^{2}\">.\\\n",
        "Use the `pow()` function\n",
        "```\n",
        "Input:x, y.\n",
        "Output: answer.\n",
        "```\n",
        "|   **Input: x**   |**Input: y**   |   **Output**    |\n",
        "|---------------|------|-----------------|\n",
        "|7            | 1            |252              |"
      ],
      "metadata": {
        "id": "tWeE7VuXr3H_"
      }
    },
    {
      "cell_type": "code",
      "source": [
        "def main8(x, y):\n",
        "    \"\"\"Integer type variables 'x' and 'y' are given. Return the value of the expression.\n",
        "    \n",
        "\n",
        "    Args:\n",
        "        x (int): integer\n",
        "        y (int): integer\n",
        "        \n",
        "    Returns:\n",
        "        int: the value of the expression\n",
        "    \"\"\""
      ],
      "metadata": {
        "id": "i3UTr57br1nE"
      },
      "execution_count": null,
      "outputs": []
    },
    {
      "cell_type": "code",
      "source": [
        "q8.check(main8, telegram_username)"
      ],
      "metadata": {
        "id": "RxTQKbsKvTSK"
      },
      "execution_count": null,
      "outputs": []
    },
    {
      "cell_type": "markdown",
      "source": [
        "# build_func09\n",
        "\n",
        "Integer type variables 'x' and 'y' are given. Return the value of the expression: <img src=\"https://latex.codecogs.com/gif.latex?\\2(y^{3}+x^{2}y)\">.\\\n",
        "Use the `pow()` function\n",
        "```\n",
        "Input:x, y.\n",
        "Output: answer.\n",
        "```\n",
        "|   **Input: x**   | **Input: y**   |  **Output**    |\n",
        "|---------------|----------|-----------------|\n",
        "|2            |4            |160              |"
      ],
      "metadata": {
        "id": "5kX3q9BbsU-p"
      }
    },
    {
      "cell_type": "code",
      "source": [
        "def main9(x, y):\n",
        "    \"\"\"Integer type variables 'x' and 'y' are given. Return the value of the expression .\n",
        "    \n",
        "\n",
        "    Args:\n",
        "        x (int): integer\n",
        "        y (int): integer\n",
        "        \n",
        "    Returns:\n",
        "        int: the value of the expression\n",
        "    \"\"\""
      ],
      "metadata": {
        "id": "3quYdFJjsSjw"
      },
      "execution_count": null,
      "outputs": []
    },
    {
      "cell_type": "code",
      "source": [
        "q9.check(main9, telegram_username)"
      ],
      "metadata": {
        "id": "6ICuEW0WvlqD"
      },
      "execution_count": null,
      "outputs": []
    },
    {
      "cell_type": "markdown",
      "source": [
        "# build_func10\n",
        "\n",
        "Integer type variables 'x' and 'y' are given. Return the value of the expression: <img src=\"https://latex.codecogs.com/gif.latex?\\3y^{\\frac{1}{2}}+x^{\\frac{2}{3}}\">.\\\n",
        "Round the result to 2 decimal places.\\\n",
        "Use the `pow()` function\\\n",
        "Use the `round()` function\n",
        "```\n",
        "Input:x, y.\n",
        "Output: answer.\n",
        "```\n",
        "|   **Input: x**   | **Input: y**   |   **Output**    |\n",
        "|---------------|------------|-----------------|\n",
        "|8            |4            |10.0              |"
      ],
      "metadata": {
        "id": "L6aItEIvsu-I"
      }
    },
    {
      "cell_type": "code",
      "source": [
        "def main10(x, y):\n",
        "    \"\"\"Integer type variables 'x' and 'y' are given. Return the value of the expression.\n",
        "    \n",
        "\n",
        "    Args:\n",
        "        x (int): integer\n",
        "        y (int): integer\n",
        "        \n",
        "    Returns:\n",
        "        int: the value of the expression\n",
        "    \"\"\""
      ],
      "metadata": {
        "id": "3xp_-ZNjsoQT"
      },
      "execution_count": null,
      "outputs": []
    },
    {
      "cell_type": "code",
      "source": [
        "q10.check(main10, telegram_username)"
      ],
      "metadata": {
        "id": "wUS59PhbtY9c"
      },
      "execution_count": null,
      "outputs": []
    },
    {
      "cell_type": "code",
      "source": [],
      "metadata": {
        "id": "W_vLQmHlv43K"
      },
      "execution_count": null,
      "outputs": []
    }
  ]
}