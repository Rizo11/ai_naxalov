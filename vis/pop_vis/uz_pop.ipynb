{
 "cells": [
  {
   "cell_type": "code",
   "execution_count": 2,
   "metadata": {},
   "outputs": [
    {
     "ename": "ModuleNotFoundError",
     "evalue": "No module named 'mpl_toolkits.basemap'",
     "output_type": "error",
     "traceback": [
      "\u001b[0;31m---------------------------------------------------------------------------\u001b[0m",
      "\u001b[0;31mModuleNotFoundError\u001b[0m                       Traceback (most recent call last)",
      "Cell \u001b[0;32mIn[2], line 6\u001b[0m\n\u001b[1;32m      4\u001b[0m \u001b[39mimport\u001b[39;00m \u001b[39mnumpy\u001b[39;00m \u001b[39mas\u001b[39;00m \u001b[39mnp\u001b[39;00m\n\u001b[1;32m      5\u001b[0m \u001b[39mimport\u001b[39;00m \u001b[39mmatplotlib\u001b[39;00m\u001b[39m.\u001b[39;00m\u001b[39mpyplot\u001b[39;00m \u001b[39mas\u001b[39;00m \u001b[39mplt\u001b[39;00m\n\u001b[0;32m----> 6\u001b[0m \u001b[39mfrom\u001b[39;00m \u001b[39mmpl_toolkits\u001b[39;00m\u001b[39m.\u001b[39;00m\u001b[39mbasemap\u001b[39;00m \u001b[39mimport\u001b[39;00m Basemap\n",
      "\u001b[0;31mModuleNotFoundError\u001b[0m: No module named 'mpl_toolkits.basemap'"
     ]
    }
   ],
   "source": [
    "# Set the backend of Matplotlib to render plots inline\n",
    "%matplotlib inline\n",
    "\n",
    "import numpy as np\n",
    "import matplotlib.pyplot as plt\n",
    "from mpl_toolkits.basemap import Basemap\n",
    "\n"
   ]
  },
  {
   "cell_type": "code",
   "execution_count": 5,
   "metadata": {},
   "outputs": [
    {
     "name": "stdout",
     "output_type": "stream",
     "text": [
      "41\n"
     ]
    }
   ],
   "source": [
    "# from json to python\n",
    "import json\n",
    "\n",
    "file = open('uz.json', 'r')\n",
    "\n",
    "data = file.read()\n",
    "\n",
    "uz_pop = json.loads(data)"
   ]
  },
  {
   "cell_type": "code",
   "execution_count": 10,
   "metadata": {},
   "outputs": [
    {
     "name": "stdout",
     "output_type": "stream",
     "text": [
      "{'Sirdaryo', 'Navoiy', 'Samarqand', 'Namangan', 'Farg‘ona', 'Surxondaryo', 'Jizzax', 'Andijon', 'Toshkent', 'Qashqadaryo', 'Xorazm', 'Qoraqalpog‘iston', 'Buxoro'}\n"
     ]
    }
   ],
   "source": [
    "regions = set()\n",
    "for city in uz_pop:\n",
    "    regions.add(city[\"admin_name\"])\n",
    "\n",
    "print(regions)"
   ]
  },
  {
   "cell_type": "code",
   "execution_count": 11,
   "metadata": {},
   "outputs": [
    {
     "name": "stdout",
     "output_type": "stream",
     "text": [
      "=====Sirdaryo======\n",
      "Guliston\n",
      "=====Navoiy======\n",
      "Navoiy\n",
      "=====Samarqand======\n",
      "Samarkand\n",
      "=====Namangan======\n",
      "Namangan\n",
      "Chust\n",
      "=====Farg‘ona======\n",
      "Qo‘qon\n",
      "Farg‘ona\n",
      "Marg‘ilon\n",
      "Rishton\n",
      "=====Surxondaryo======\n",
      "Denov\n",
      "Termiz\n",
      "=====Jizzax======\n",
      "Jizzax\n",
      "=====Andijon======\n",
      "Andijon\n",
      "Shahrixon\n",
      "Asaka\n",
      "Xonobod\n",
      "Paxtaobod\n",
      "Buloqboshi\n",
      "Qo‘rg‘ontepa\n",
      "Dardoq\n",
      "Poytug‘\n",
      "Baliqchi\n",
      "Chinobod\n",
      "Jalolquduq\n",
      "Xo‘jaobod\n",
      "Marhamat\n",
      "Kuyganyor\n",
      "Oltinko‘l\n",
      "Oqoltin\n",
      "Oxunboboyev\n",
      "=====Toshkent======\n",
      "Tashkent\n",
      "Iskandar\n",
      "Chirchiq\n",
      "Angren\n",
      "Olmaliq\n",
      "=====Qashqadaryo======\n",
      "Qarshi\n",
      "Shahrisabz\n",
      "=====Xorazm======\n",
      "Urganch\n",
      "=====Qoraqalpog‘iston======\n",
      "Nukus\n",
      "=====Buxoro======\n",
      "Bukhara\n",
      "Kogon Shahri\n"
     ]
    }
   ],
   "source": [
    "for region in regions:\n",
    "    print(f\"====={region}======\")\n",
    "    for city in uz_pop:\n",
    "        if city[\"admin_name\"] == region:\n",
    "            print(city[\"city\"])"
   ]
  },
  {
   "cell_type": "code",
   "execution_count": null,
   "metadata": {},
   "outputs": [],
   "source": []
  }
 ],
 "metadata": {
  "kernelspec": {
   "display_name": "base",
   "language": "python",
   "name": "python3"
  },
  "language_info": {
   "codemirror_mode": {
    "name": "ipython",
    "version": 3
   },
   "file_extension": ".py",
   "mimetype": "text/x-python",
   "name": "python",
   "nbconvert_exporter": "python",
   "pygments_lexer": "ipython3",
   "version": "3.10.9"
  },
  "orig_nbformat": 4
 },
 "nbformat": 4,
 "nbformat_minor": 2
}
